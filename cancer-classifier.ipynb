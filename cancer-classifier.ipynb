{
 "cells": [
  {
   "cell_type": "code",
   "execution_count": 34,
   "metadata": {},
   "outputs": [],
   "source": [
    "import pandas as pd\n",
    "\n",
    "data_frame = pd.read_csv('./assets/exams.csv')\n",
    "\n",
    "changeToEnglish = {\n",
    "\t'diagnostico': 'diagnosis'\n",
    "}\n",
    "\n",
    "data_frame.rename(columns=changeToEnglish, inplace=True)\n",
    "\n",
    "results = data_frame[['id', 'diagnosis']]\n",
    "diagnosis = results.diagnosis\n",
    "\n",
    "# describers.isnull().sum() executing this will output that column exame_33 has several null values, for now Im removing then\n",
    "describers = data_frame.drop(columns=['id', 'diagnosis', 'exame_33'])"
   ]
  },
  {
   "cell_type": "code",
   "execution_count": 35,
   "metadata": {},
   "outputs": [
    {
     "name": "stdout",
     "output_type": "stream",
     "text": [
      "We ll train with 426 elements e test it with 143 elements\n"
     ]
    }
   ],
   "source": [
    "from sklearn.model_selection import train_test_split\n",
    "\n",
    "SEED = 1234\n",
    "\n",
    "describers_train, describers_test, diagnosis_train, diagnosis_test = train_test_split(\n",
    "\tdescribers,\n",
    "\tdiagnosis,\n",
    "\ttest_size=0.25,\n",
    "\tstratify=diagnosis,\n",
    "\trandom_state=SEED\n",
    "\t)\n",
    "\n",
    "print(\"We ll train with %d elements e test it with %d elements\" % (len(describers_train), len(describers_test)))"
   ]
  },
  {
   "cell_type": "code",
   "execution_count": 38,
   "metadata": {},
   "outputs": [
    {
     "name": "stdout",
     "output_type": "stream",
     "text": [
      "Classification Result 97.20%\n"
     ]
    }
   ],
   "source": [
    "from sklearn.ensemble import RandomForestClassifier\n",
    "\n",
    "classifier = RandomForestClassifier(n_estimators=100)\n",
    "classifier.fit(describers_train, diagnosis_train)\n",
    "\n",
    "result = classifier.score(describers_test, diagnosis_test)\n",
    "\n",
    "print(\"Classification Result %.2f%%\" %(result * 100))\n",
    "\n",
    "print(\"It seems good, but lets try add a baseline with a dummyClassifier\")"
   ]
  },
  {
   "cell_type": "code",
   "execution_count": 42,
   "metadata": {},
   "outputs": [
    {
     "name": "stdout",
     "output_type": "stream",
     "text": [
      "Dummy Classification Result 62.94%\n"
     ]
    }
   ],
   "source": [
    "from sklearn.dummy import DummyClassifier\n",
    "\n",
    "SEED = 121314\n",
    "\n",
    "dummy_classifier = DummyClassifier(strategy = 'most_frequent')\n",
    "dummy_classifier.fit(describers_train, diagnosis_train)\n",
    "\n",
    "result = dummy_classifier.score(describers_test, diagnosis_test)\n",
    "\n",
    "\n",
    "print(\"Dummy Classification Result %.2f%%\" %(result * 100))\n",
    "\n",
    "print('Yeah, it looks like the first one is okay')"
   ]
  }
 ],
 "metadata": {
  "interpreter": {
   "hash": "31f2aee4e71d21fbe5cf8b01ff0e069b9275f58929596ceb00d14d90e3e16cd6"
  },
  "kernelspec": {
   "display_name": "Python 3.8.5 64-bit",
   "name": "python3"
  },
  "language_info": {
   "codemirror_mode": {
    "name": "ipython",
    "version": 3
   },
   "file_extension": ".py",
   "mimetype": "text/x-python",
   "name": "python",
   "nbconvert_exporter": "python",
   "pygments_lexer": "ipython3",
   "version": "3.8.5"
  },
  "orig_nbformat": 4
 },
 "nbformat": 4,
 "nbformat_minor": 2
}