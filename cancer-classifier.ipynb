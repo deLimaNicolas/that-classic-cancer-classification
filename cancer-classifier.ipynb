{
 "cells": [
  {
   "cell_type": "code",
   "execution_count": 17,
   "metadata": {},
   "outputs": [],
   "source": [
    "import pandas as pd\n",
    "\n",
    "data_frame = pd.read_csv('./assets/exams.csv')\n",
    "\n",
    "changeToEnglish = {\n",
    "\t'diagnostico': 'diagnosis'\n",
    "}\n",
    "\n",
    "data_frame.rename(columns=changeToEnglish, inplace=True)\n",
    "\n",
    "results = data_frame[['id', 'diagnosis']]\n",
    "diagnosis = results.diagnosis\n",
    "\n",
    "# describers.isnull().sum() executing this will output that column exame_33 has several null values, for now Im removing then\n",
    "describers = data_frame.drop(columns=['id', 'diagnosis', 'exame_33'])"
   ]
  },
  {
   "cell_type": "code",
   "execution_count": 18,
   "metadata": {},
   "outputs": [
    {
     "name": "stdout",
     "output_type": "stream",
     "text": [
      "We ll train with 426 elements e test it with 143 elements\n"
     ]
    }
   ],
   "source": [
    "from sklearn.model_selection import train_test_split\n",
    "\n",
    "SEED = 1234\n",
    "\n",
    "describers_train, describers_test, diagnosis_train, diagnosis_test = train_test_split(\n",
    "\tdescribers,\n",
    "\tdiagnosis,\n",
    "\ttest_size=0.25,\n",
    "\tstratify=diagnosis,\n",
    "\trandom_state=SEED\n",
    "\t)\n",
    "\n",
    "print(\"We ll train with %d elements e test it with %d elements\" % (len(describers_train), len(describers_test)))"
   ]
  },
  {
   "cell_type": "code",
   "execution_count": 19,
   "metadata": {},
   "outputs": [
    {
     "name": "stdout",
     "output_type": "stream",
     "text": [
      "Classification Result 97.20%\n",
      "It seems good, but lets try add a baseline with a dummyClassifier\n"
     ]
    }
   ],
   "source": [
    "from sklearn.ensemble import RandomForestClassifier\n",
    "\n",
    "classifier = RandomForestClassifier(n_estimators=100)\n",
    "classifier.fit(describers_train, diagnosis_train)\n",
    "\n",
    "result = classifier.score(describers_test, diagnosis_test)\n",
    "\n",
    "print(\"Classification Result %.2f%%\" %(result * 100))\n",
    "\n",
    "print(\"It seems good, but lets try add a baseline with a dummyClassifier\")"
   ]
  },
  {
   "cell_type": "code",
   "execution_count": 20,
   "metadata": {},
   "outputs": [
    {
     "name": "stdout",
     "output_type": "stream",
     "text": [
      "Dummy Classification Result 62.94%\n",
      "Yeah, it looks like the first one is okay\n"
     ]
    }
   ],
   "source": [
    "from sklearn.dummy import DummyClassifier\n",
    "\n",
    "SEED = 121314\n",
    "\n",
    "dummy_classifier = DummyClassifier(strategy = 'most_frequent')\n",
    "dummy_classifier.fit(describers_train, diagnosis_train)\n",
    "\n",
    "result = dummy_classifier.score(describers_test, diagnosis_test)\n",
    "\n",
    "\n",
    "print('Dummy Classification Result %.2f%%' %(result * 100))\n",
    "\n",
    "print('Yeah, it looks like the first one is okay')"
   ]
  },
  {
   "cell_type": "code",
   "execution_count": 21,
   "metadata": {},
   "outputs": [
    {
     "data": {
      "text/html": [
       "<div>\n",
       "<style scoped>\n",
       "    .dataframe tbody tr th:only-of-type {\n",
       "        vertical-align: middle;\n",
       "    }\n",
       "\n",
       "    .dataframe tbody tr th {\n",
       "        vertical-align: top;\n",
       "    }\n",
       "\n",
       "    .dataframe thead th {\n",
       "        text-align: right;\n",
       "    }\n",
       "</style>\n",
       "<table border=\"1\" class=\"dataframe\">\n",
       "  <thead>\n",
       "    <tr style=\"text-align: right;\">\n",
       "      <th></th>\n",
       "      <th>diagnosis</th>\n",
       "      <th>exams</th>\n",
       "      <th>values</th>\n",
       "    </tr>\n",
       "  </thead>\n",
       "  <tbody>\n",
       "    <tr>\n",
       "      <th>0</th>\n",
       "      <td>M</td>\n",
       "      <td>exame_1</td>\n",
       "      <td>17.99</td>\n",
       "    </tr>\n",
       "    <tr>\n",
       "      <th>1</th>\n",
       "      <td>M</td>\n",
       "      <td>exame_1</td>\n",
       "      <td>20.57</td>\n",
       "    </tr>\n",
       "    <tr>\n",
       "      <th>2</th>\n",
       "      <td>M</td>\n",
       "      <td>exame_1</td>\n",
       "      <td>19.69</td>\n",
       "    </tr>\n",
       "    <tr>\n",
       "      <th>3</th>\n",
       "      <td>M</td>\n",
       "      <td>exame_1</td>\n",
       "      <td>11.42</td>\n",
       "    </tr>\n",
       "    <tr>\n",
       "      <th>4</th>\n",
       "      <td>M</td>\n",
       "      <td>exame_1</td>\n",
       "      <td>20.29</td>\n",
       "    </tr>\n",
       "  </tbody>\n",
       "</table>\n",
       "</div>"
      ],
      "text/plain": [
       "  diagnosis    exams  values\n",
       "0         M  exame_1   17.99\n",
       "1         M  exame_1   20.57\n",
       "2         M  exame_1   19.69\n",
       "3         M  exame_1   11.42\n",
       "4         M  exame_1   20.29"
      ]
     },
     "execution_count": 21,
     "metadata": {},
     "output_type": "execute_result"
    }
   ],
   "source": [
    "data_plot =  pd.concat([diagnosis, describers.iloc[:, 0:10]], axis = 1)\n",
    "\n",
    "data_plot = pd.melt(data_plot, id_vars='diagnosis', var_name='exams', value_name='values')\n",
    "\n",
    "data_plot.head()"
   ]
  },
  {
   "cell_type": "code",
   "execution_count": 22,
   "metadata": {},
   "outputs": [
    {
     "data": {
      "text/plain": [
       "<AxesSubplot:xlabel='exams', ylabel='values'>"
      ]
     },
     "execution_count": 22,
     "metadata": {},
     "output_type": "execute_result"
    },
    {
     "data": {
      "image/png": "[encoded data removed]",
      "text/plain": [
       "<Figure size 720x720 with 1 Axes>"
      ]
     },
     "metadata": {
      "needs_background": "light"
     },
     "output_type": "display_data"
    }
   ],
   "source": [
    "import seaborn as sns\n",
    "import matplotlib.pyplot as plt\n",
    "\n",
    "plt.figure(figsize=(10,10))\n",
    "plt.xticks(rotation = 90)\n",
    "\n",
    "sns.violinplot(x = 'exams', y = 'values',\n",
    "\t       hue=\"diagnosis\", data = data_plot)"
   ]
  },
  {
   "cell_type": "code",
   "execution_count": 23,
   "metadata": {},
   "outputs": [
    {
     "name": "stdout",
     "output_type": "stream",
     "text": [
      "I have no idea, 0 insights about this graph. I ll try again tomorrow tho\n"
     ]
    }
   ],
   "source": [
    "print('I have no idea, 0 insights about this graph. I ll try again tomorrow tho')"
   ]
  }
 ],
 "metadata": {
  "interpreter": {
   "hash": "31f2aee4e71d21fbe5cf8b01ff0e069b9275f58929596ceb00d14d90e3e16cd6"
  },
  "kernelspec": {
   "display_name": "Python 3.8.5 64-bit",
   "name": "python3"
  },
  "language_info": {
   "codemirror_mode": {
    "name": "ipython",
    "version": 3
   },
   "file_extension": ".py",
   "mimetype": "text/x-python",
   "name": "python",
   "nbconvert_exporter": "python",
   "pygments_lexer": "ipython3",
   "version": "3.8.5"
  },
  "orig_nbformat": 4
 },
 "nbformat": 4,
 "nbformat_minor": 2
}